{
  "nbformat": 4,
  "nbformat_minor": 0,
  "metadata": {
    "colab": {
      "name": "Compila_BD_Vagoes.ipynb",
      "provenance": [],
      "mount_file_id": "1_4EIM6oy0ZI4wVHn2nq9TJK3hJk2-ng1",
      "authorship_tag": "ABX9TyOuwxS1QY6vqQIZQvS7GxsU",
      "include_colab_link": true
    },
    "kernelspec": {
      "name": "python3",
      "display_name": "Python 3"
    },
    "language_info": {
      "name": "python"
    }
  },
  "cells": [
    {
      "cell_type": "markdown",
      "metadata": {
        "id": "view-in-github",
        "colab_type": "text"
      },
      "source": [
        "<a href=\"https://colab.research.google.com/github/alcarvalhox/inteligencia_vagoes/blob/main/Compila_BD_Vagoes.ipynb\" target=\"_parent\"><img src=\"https://colab.research.google.com/assets/colab-badge.svg\" alt=\"Open In Colab\"/></a>"
      ]
    },
    {
      "cell_type": "markdown",
      "metadata": {
        "id": "JUZFB4jwrdPH"
      },
      "source": [
        "# **Importa bibliotecas**"
      ]
    },
    {
      "cell_type": "code",
      "metadata": {
        "id": "OSW96kbzLnq-"
      },
      "source": [
        "import pandas as pd\n",
        "import numpy as np \n",
        "import re"
      ],
      "execution_count": 3,
      "outputs": []
    },
    {
      "cell_type": "markdown",
      "metadata": {
        "id": "vXLAl3t5OdIw"
      },
      "source": [
        "# **Compila WI**"
      ]
    },
    {
      "cell_type": "code",
      "metadata": {
        "id": "vjI1yNIQLp_4"
      },
      "source": [
        "#df=pd.read_excel(r'C:\\Users\\Gustavo\\Desktop\\Concatenar waysides\\Wheel Impact dez 20 Vgs selecionados.xlsx', dayfirst=True)\n",
        "\n",
        "df=pd.read_excel('/content/drive/MyDrive/Projetos/Projeto Inteligencia Vagoes/Wheel Impact.xlsx', engine='openpyxl')#, dayfirst=True)\n",
        "\n",
        "pd.to_datetime(df['Horário do trem'], dayfirst=True)\n",
        "\n",
        "df['Identificação do veículo']=df['Identificação do veículo'].str[4:10]\n",
        "\n",
        "df_serial=pd.read_excel('/content/drive/MyDrive/Projetos/Projeto Inteligencia Vagoes/CMRO_0076_1.xlsx',\n",
        "                        skiprows=2, engine='openpyxl')#, dayfirst=True)\n",
        "\n",
        "pd.to_datetime(df_serial['Data Transação'], dayfirst=True)\n",
        "pd.to_datetime(df_serial['Data Disposição'],dayfirst=True)                        \n",
        "\n",
        "df_serial['Posição_num']=(df_serial['Posição'].str[12:13])\n",
        "df_serial['Posição_num']=df_serial['Posição_num'].astype(float)\n",
        "\n",
        "df_serial=df_serial[df_serial['Tipo Transação']=='Instalado']\n",
        "df_serial=df_serial.reset_index()\n",
        "\n",
        "\n",
        "#Adicionar nomes das colunas do df serial em df \n",
        "#df=pd.concat([df,pd.DataFrame(columns=list(df_serial.columns))])\n",
        "df=pd.concat([df,pd.DataFrame(columns=['Item Componente','Série Componente','Posição','Data Transação'])])\n",
        "\n",
        "\n",
        "df = df.dropna(subset=['Identificação do veículo'])\n",
        "\n",
        "for i in range(0,len(df)):\n",
        "\n",
        "  #if df['Identificação do veículo'].iloc[i]!='NaN':\n",
        "  #if np.isnan(int(df['Identificação do veículo'].iloc[i]))==False:\n",
        "\n",
        "    vagao=int((df['Identificação do veículo'].iloc[i]))\n",
        "    num_eixo=(df['Número do eixo do veículo'].iloc[i])\n",
        "    data=(df['Horário do trem'].iloc[i])\n",
        "    \n",
        "    filtro_vagao =  df_serial[df_serial['Série Ativo Componente']==vagao]\n",
        "    filtro_vagao = filtro_vagao[filtro_vagao['Posição_num']==(num_eixo)] \n",
        "    df_vagao = filtro_vagao.reset_index()\n",
        "    if df_vagao.empty == False:\n",
        "        df_vagao = df_vagao[df_vagao['Data Transação']<data]\n",
        "        df_vagao = df_vagao.sort_values(by='Data Transação')\n",
        "        df_vagao = df_vagao.tail(1)\n",
        "        item=df_vagao['Item Componente'].item()\n",
        "        df.loc[i, 'Item Componente'] = item\n",
        "        item=df_vagao['Série Componente'].item()\n",
        "        df.loc[i, 'Série Componente'] = item\n",
        "        item=df_vagao['Posição'].item()\n",
        "        df.loc[i, 'Posição'] = item\n",
        "        item=df_vagao['Data Transação'].item()\n",
        "        df.loc[i, 'Data Transação'] = item\n",
        "                  \n",
        "#Coluna id única\n",
        "df['id_unica']=df['Item Componente'].astype(str)+\"-\"+df['Série Componente'].astype(str)+\"-\"+df['Lateral do veículo'].astype(str)\n",
        "df.to_excel(r'/content/drive/MyDrive/Projetos/Projeto Inteligencia Vagoes/WheelImpact_serial_v1.xlsx', index= False)      "
      ],
      "execution_count": 61,
      "outputs": []
    },
    {
      "cell_type": "code",
      "metadata": {
        "colab": {
          "base_uri": "https://localhost:8080/",
          "height": 428
        },
        "id": "x_yw3bVIPnAa",
        "outputId": "94b2ee03-b1c9-4a51-e257-eaee7e63f479"
      },
      "source": [
        "df.head()"
      ],
      "execution_count": 59,
      "outputs": [
        {
          "output_type": "execute_result",
          "data": {
            "text/html": [
              "<div>\n",
              "<style scoped>\n",
              "    .dataframe tbody tr th:only-of-type {\n",
              "        vertical-align: middle;\n",
              "    }\n",
              "\n",
              "    .dataframe tbody tr th {\n",
              "        vertical-align: top;\n",
              "    }\n",
              "\n",
              "    .dataframe thead th {\n",
              "        text-align: right;\n",
              "    }\n",
              "</style>\n",
              "<table border=\"1\" class=\"dataframe\">\n",
              "  <thead>\n",
              "    <tr style=\"text-align: right;\">\n",
              "      <th></th>\n",
              "      <th>Horário do trem</th>\n",
              "      <th>Site</th>\n",
              "      <th>Tipo de sensor</th>\n",
              "      <th>Número do veículo</th>\n",
              "      <th>Número do eixo do trem</th>\n",
              "      <th>Identificação do veículo</th>\n",
              "      <th>Número do eixo do veículo</th>\n",
              "      <th>Lateral do veículo</th>\n",
              "      <th>Número da roda</th>\n",
              "      <th>Velocidade do eixo</th>\n",
              "      <th>Extremidade do eixo</th>\n",
              "      <th>Direção</th>\n",
              "      <th>Lateral da linha</th>\n",
              "      <th>Força de pico de impacto da roda (kN)</th>\n",
              "      <th>Alerta de pico de impacto da roda</th>\n",
              "      <th>Alerta de impacto normalizado da roda (kN)</th>\n",
              "      <th>Peso da roda (t)</th>\n",
              "      <th>Carga média da roda lateral do truque (t)</th>\n",
              "      <th>Item Componente</th>\n",
              "      <th>Série Componente</th>\n",
              "      <th>Posição</th>\n",
              "      <th>Data Transação</th>\n",
              "      <th>id_unica</th>\n",
              "    </tr>\n",
              "  </thead>\n",
              "  <tbody>\n",
              "    <tr>\n",
              "      <th>0</th>\n",
              "      <td>2020-01-01 00:37:05</td>\n",
              "      <td>142.8km</td>\n",
              "      <td>WCM2</td>\n",
              "      <td>1.0</td>\n",
              "      <td>1.0</td>\n",
              "      <td>7236</td>\n",
              "      <td>6.0</td>\n",
              "      <td>R</td>\n",
              "      <td>NaN</td>\n",
              "      <td>51.0</td>\n",
              "      <td>B</td>\n",
              "      <td>Sentido RJ</td>\n",
              "      <td>Distante</td>\n",
              "      <td>145.0</td>\n",
              "      <td>0.0</td>\n",
              "      <td>150.0</td>\n",
              "      <td>14.7</td>\n",
              "      <td>15.4</td>\n",
              "      <td>NaN</td>\n",
              "      <td>NaN</td>\n",
              "      <td>NaN</td>\n",
              "      <td>NaN</td>\n",
              "      <td>nan-nan-R</td>\n",
              "    </tr>\n",
              "    <tr>\n",
              "      <th>1</th>\n",
              "      <td>2020-01-01 00:37:05</td>\n",
              "      <td>142.8km</td>\n",
              "      <td>WCM2</td>\n",
              "      <td>1.0</td>\n",
              "      <td>1.0</td>\n",
              "      <td>7236</td>\n",
              "      <td>6.0</td>\n",
              "      <td>L</td>\n",
              "      <td>NaN</td>\n",
              "      <td>51.0</td>\n",
              "      <td>B</td>\n",
              "      <td>Sentido RJ</td>\n",
              "      <td>Proximo</td>\n",
              "      <td>143.0</td>\n",
              "      <td>0.0</td>\n",
              "      <td>150.0</td>\n",
              "      <td>14.6</td>\n",
              "      <td>14.9</td>\n",
              "      <td>NaN</td>\n",
              "      <td>NaN</td>\n",
              "      <td>NaN</td>\n",
              "      <td>NaN</td>\n",
              "      <td>nan-nan-L</td>\n",
              "    </tr>\n",
              "    <tr>\n",
              "      <th>2</th>\n",
              "      <td>2020-01-01 00:37:05</td>\n",
              "      <td>142.8km</td>\n",
              "      <td>WCM2</td>\n",
              "      <td>1.0</td>\n",
              "      <td>2.0</td>\n",
              "      <td>7236</td>\n",
              "      <td>5.0</td>\n",
              "      <td>R</td>\n",
              "      <td>NaN</td>\n",
              "      <td>51.0</td>\n",
              "      <td>B</td>\n",
              "      <td>Sentido RJ</td>\n",
              "      <td>Distante</td>\n",
              "      <td>162.0</td>\n",
              "      <td>0.0</td>\n",
              "      <td>155.0</td>\n",
              "      <td>16.0</td>\n",
              "      <td>15.4</td>\n",
              "      <td>NaN</td>\n",
              "      <td>NaN</td>\n",
              "      <td>NaN</td>\n",
              "      <td>NaN</td>\n",
              "      <td>nan-nan-R</td>\n",
              "    </tr>\n",
              "    <tr>\n",
              "      <th>3</th>\n",
              "      <td>2020-01-01 00:37:05</td>\n",
              "      <td>142.8km</td>\n",
              "      <td>WCM2</td>\n",
              "      <td>1.0</td>\n",
              "      <td>2.0</td>\n",
              "      <td>7236</td>\n",
              "      <td>5.0</td>\n",
              "      <td>L</td>\n",
              "      <td>NaN</td>\n",
              "      <td>51.0</td>\n",
              "      <td>B</td>\n",
              "      <td>Sentido RJ</td>\n",
              "      <td>Proximo</td>\n",
              "      <td>139.0</td>\n",
              "      <td>0.0</td>\n",
              "      <td>150.0</td>\n",
              "      <td>14.2</td>\n",
              "      <td>14.9</td>\n",
              "      <td>NaN</td>\n",
              "      <td>NaN</td>\n",
              "      <td>NaN</td>\n",
              "      <td>NaN</td>\n",
              "      <td>nan-nan-L</td>\n",
              "    </tr>\n",
              "    <tr>\n",
              "      <th>4</th>\n",
              "      <td>2020-01-01 00:37:05</td>\n",
              "      <td>142.8km</td>\n",
              "      <td>WCM2</td>\n",
              "      <td>1.0</td>\n",
              "      <td>3.0</td>\n",
              "      <td>7236</td>\n",
              "      <td>4.0</td>\n",
              "      <td>R</td>\n",
              "      <td>NaN</td>\n",
              "      <td>51.0</td>\n",
              "      <td>B</td>\n",
              "      <td>Sentido RJ</td>\n",
              "      <td>Distante</td>\n",
              "      <td>152.0</td>\n",
              "      <td>0.0</td>\n",
              "      <td>150.0</td>\n",
              "      <td>15.5</td>\n",
              "      <td>15.4</td>\n",
              "      <td>NaN</td>\n",
              "      <td>NaN</td>\n",
              "      <td>NaN</td>\n",
              "      <td>NaN</td>\n",
              "      <td>nan-nan-R</td>\n",
              "    </tr>\n",
              "  </tbody>\n",
              "</table>\n",
              "</div>"
            ],
            "text/plain": [
              "      Horário do trem     Site Tipo de sensor  ...  Posição  Data Transação   id_unica\n",
              "0 2020-01-01 00:37:05  142.8km           WCM2  ...      NaN             NaN  nan-nan-R\n",
              "1 2020-01-01 00:37:05  142.8km           WCM2  ...      NaN             NaN  nan-nan-L\n",
              "2 2020-01-01 00:37:05  142.8km           WCM2  ...      NaN             NaN  nan-nan-R\n",
              "3 2020-01-01 00:37:05  142.8km           WCM2  ...      NaN             NaN  nan-nan-L\n",
              "4 2020-01-01 00:37:05  142.8km           WCM2  ...      NaN             NaN  nan-nan-R\n",
              "\n",
              "[5 rows x 23 columns]"
            ]
          },
          "metadata": {},
          "execution_count": 59
        }
      ]
    },
    {
      "cell_type": "code",
      "metadata": {
        "id": "D_EekvedgD8s"
      },
      "source": [
        "ww=df['Identificação do veículo'].dropna()"
      ],
      "execution_count": 51,
      "outputs": []
    },
    {
      "cell_type": "code",
      "metadata": {
        "colab": {
          "base_uri": "https://localhost:8080/"
        },
        "id": "5ROJoUDAejUE",
        "outputId": "41b80dd6-7562-4f30-ba12-7412664b19dc"
      },
      "source": [
        "df.shape"
      ],
      "execution_count": 60,
      "outputs": [
        {
          "output_type": "execute_result",
          "data": {
            "text/plain": [
              "(317032, 23)"
            ]
          },
          "metadata": {},
          "execution_count": 60
        }
      ]
    },
    {
      "cell_type": "code",
      "metadata": {
        "colab": {
          "base_uri": "https://localhost:8080/"
        },
        "id": "xuUaD188bkzk",
        "outputId": "c8017b80-f361-4423-f219-423f354e58f4"
      },
      "source": [
        "int(df['Identificação do veículo'].iloc[34])"
      ],
      "execution_count": 42,
      "outputs": [
        {
          "output_type": "execute_result",
          "data": {
            "text/plain": [
              "733846"
            ]
          },
          "metadata": {},
          "execution_count": 42
        }
      ]
    },
    {
      "cell_type": "code",
      "metadata": {
        "colab": {
          "base_uri": "https://localhost:8080/"
        },
        "id": "CGxs9J6RROG5",
        "outputId": "38398aac-a772-450b-db6d-ad96f7f23dda"
      },
      "source": [
        "df.isna().sum()"
      ],
      "execution_count": 26,
      "outputs": [
        {
          "output_type": "execute_result",
          "data": {
            "text/plain": [
              "Horário do trem                                    0\n",
              "Site                                               0\n",
              "Tipo de sensor                                     0\n",
              "Número do veículo                                  0\n",
              "Número do eixo do trem                             0\n",
              "Identificação do veículo                      122720\n",
              "Número do eixo do veículo                          0\n",
              "Lateral do veículo                                 0\n",
              "Número da roda                                439536\n",
              "Velocidade do eixo                                 0\n",
              "Extremidade do eixo                                0\n",
              "Direção                                            0\n",
              "Lateral da linha                                   0\n",
              "Força de pico de impacto da roda (kN)              0\n",
              "Alerta de pico de impacto da roda                  0\n",
              "Alerta de impacto normalizado da roda (kN)         0\n",
              "Peso da roda (t)                                   0\n",
              "Carga média da roda lateral do truque (t)         52\n",
              "Item Componente                               439536\n",
              "Série Componente                              439536\n",
              "Posição                                       439536\n",
              "Data Transação                                439536\n",
              "dtype: int64"
            ]
          },
          "metadata": {},
          "execution_count": 26
        }
      ]
    },
    {
      "cell_type": "code",
      "metadata": {
        "id": "x-ZdklcxPohu"
      },
      "source": [
        "df['Identificação do veículo']=df['Identificação do veículo'].str[4:10]"
      ],
      "execution_count": 8,
      "outputs": []
    },
    {
      "cell_type": "code",
      "metadata": {
        "id": "WvzS9QvyPm9K"
      },
      "source": [
        "df_serial=pd.read_excel('/content/drive/MyDrive/Projetos/Projeto Inteligencia Vagoes/CMRO_0076.xls',\n",
        "                        skiprows=2)"
      ],
      "execution_count": 11,
      "outputs": []
    },
    {
      "cell_type": "code",
      "metadata": {
        "colab": {
          "base_uri": "https://localhost:8080/"
        },
        "id": "xL2X7OtvPm3x",
        "outputId": "f371b22e-e45d-4a26-a465-96d55b7f85b0"
      },
      "source": [
        "pd.to_datetime(df_serial['Data Transação'], dayfirst=True)\n",
        "pd.to_datetime(df_serial['Data Disposição'],dayfirst=True)"
      ],
      "execution_count": 15,
      "outputs": [
        {
          "output_type": "execute_result",
          "data": {
            "text/plain": [
              "0      2010-11-18 00:00:00\n",
              "1      2010-11-18 00:00:00\n",
              "2      2010-12-03 00:00:00\n",
              "3                      NaT\n",
              "4                      NaT\n",
              "               ...        \n",
              "1807   2020-01-25 15:12:04\n",
              "1808   2020-06-30 00:04:39\n",
              "1809   2018-10-05 14:28:53\n",
              "1810   2018-10-05 14:28:53\n",
              "1811   2019-07-02 10:50:22\n",
              "Name: Data Disposição, Length: 1812, dtype: datetime64[ns]"
            ]
          },
          "metadata": {},
          "execution_count": 15
        }
      ]
    },
    {
      "cell_type": "code",
      "metadata": {
        "colab": {
          "base_uri": "https://localhost:8080/"
        },
        "id": "4LnHDvkFPm0_",
        "outputId": "14bfcd6f-67f7-486a-c46d-3387f962f04c"
      },
      "source": [
        "len(df['Identificação do veículo'])"
      ],
      "execution_count": 17,
      "outputs": [
        {
          "output_type": "execute_result",
          "data": {
            "text/plain": [
              "439536"
            ]
          },
          "metadata": {},
          "execution_count": 17
        }
      ]
    },
    {
      "cell_type": "code",
      "metadata": {
        "id": "tmO8u_OUPmyR"
      },
      "source": [
        ""
      ],
      "execution_count": null,
      "outputs": []
    },
    {
      "cell_type": "code",
      "metadata": {
        "id": "4C71AegKPmve"
      },
      "source": [
        ""
      ],
      "execution_count": null,
      "outputs": []
    },
    {
      "cell_type": "code",
      "metadata": {
        "id": "_cL51TiFPmh8"
      },
      "source": [
        ""
      ],
      "execution_count": null,
      "outputs": []
    },
    {
      "cell_type": "markdown",
      "metadata": {
        "id": "yO4d3kZeOm30"
      },
      "source": [
        "# **Compila RB**"
      ]
    },
    {
      "cell_type": "code",
      "metadata": {
        "id": "AsM1hJLSLp8k"
      },
      "source": [
        "df=pd.read_excel('/content/drive/MyDrive/Projetos/Projeto Inteligencia Vagoes/RailBAM.xlsx',engine='openpyxl')\n",
        "\n",
        "pd.to_datetime(df['Horário do trem'], dayfirst=True)\n",
        "\n",
        "df['Identificação do veículo']=df['Identificação do veículo'].str[4:10]\n",
        "\n",
        "df_serial=pd.read_excel('/content/drive/MyDrive/Projetos/Projeto Inteligencia Vagoes/CMRO_0076_1.xlsx',\n",
        "                        skiprows=2)\n",
        "\n",
        "pd.to_datetime(df_serial['Data Transação'], dayfirst=True)\n",
        "pd.to_datetime(df_serial['Data Disposição'],dayfirst=True)  \n",
        "\n",
        "\n",
        "df_serial['Posição_num']=(df_serial['Posição'].str[12:13])\n",
        "df_serial['Posição_num']=df_serial['Posição_num'].astype(float)\n",
        "\n",
        "df_serial=df_serial[df_serial['Tipo Transação']=='Instalado']\n",
        "df_serial=df_serial.reset_index()\n",
        "\n",
        "\n",
        "#Adicionar nomes das colunas do df serial em df \n",
        "#df=pd.concat([df,pd.DataFrame(columns=list(df_serial.columns))])\n",
        "df=pd.concat([df,pd.DataFrame(columns=['Item Componente','Série Componente','Posição','Data Transação'])])\n",
        "\n",
        "df = df.dropna(subset=['Identificação do veículo'])\n",
        "\n",
        "for i in range(0,len(df['Identificação do veículo'])):\n",
        "    vagao=int((df['Identificação do veículo'].iloc[i]))\n",
        "    num_eixo=(df['Número do eixo do veículo'].iloc[i])\n",
        "    data=(df['Horário do trem'].iloc[i])\n",
        "    \n",
        "    filtro_vagao =  df_serial[df_serial['Série Ativo Componente']==vagao]\n",
        "    filtro_vagao = filtro_vagao[filtro_vagao['Posição_num']==(num_eixo)] \n",
        "    df_vagao = filtro_vagao.reset_index()\n",
        "    if df_vagao.empty == False:\n",
        "        df_vagao = df_vagao[df_vagao['Data Transação']<data]\n",
        "        df_vagao = df_vagao.sort_values(by='Data Transação')\n",
        "        df_vagao = df_vagao.tail(1)\n",
        "        item=df_vagao['Item Componente'].item()\n",
        "        df.loc[i, 'Item Componente'] = item\n",
        "        item=df_vagao['Série Componente'].item()\n",
        "        df.loc[i, 'Série Componente'] = item\n",
        "        item=df_vagao['Posição'].item()\n",
        "        df.loc[i, 'Posição'] = item\n",
        "        item=df_vagao['Data Transação'].item()\n",
        "        df.loc[i, 'Data Transação'] = item\n",
        "                  \n",
        "#Coluna id única\n",
        "df['id_unica']=df['Item Componente'].astype(str)+\"-\"+df['Série Componente'].astype(str)+\"-\"+df['Lateral do veículo'].astype(str)\n",
        "df.to_excel('/content/drive/MyDrive/Projetos/Projeto Inteligencia Vagoes/RailBam_serial_v1.xlsx', index= False)                                 \n",
        "   "
      ],
      "execution_count": 63,
      "outputs": []
    },
    {
      "cell_type": "markdown",
      "metadata": {
        "id": "cHjX6j-QOs5u"
      },
      "source": [
        "# **Compila HBD**"
      ]
    },
    {
      "cell_type": "code",
      "metadata": {
        "colab": {
          "base_uri": "https://localhost:8080/"
        },
        "id": "ZYHRUohKLpzv",
        "outputId": "92a8dd40-55d1-4b76-dcba-a93e17023dd2"
      },
      "source": [
        "df=pd.read_csv('/content/drive/MyDrive/Projetos/Projeto Inteligencia Vagoes/HotBox.csv', sep = ',',encoding = 'utf8')\n",
        "\n",
        "df['ID_VEICULO']=df['ID_VEICULO'].str[3:9]\n",
        "\n",
        "pd.to_datetime(df['DT_GERA_GRUPO_MEDC_HBD'], dayfirst=True)\n",
        "pd.to_datetime(df['DT_INCS_GRUPO_MEDC_HBD'], dayfirst=True)\n",
        "\n",
        "\n",
        "df_serial=pd.read_excel('/content/drive/MyDrive/Projetos/Projeto Inteligencia Vagoes/CMRO_0076_1.xlsx',\n",
        "                        skiprows=2)\n",
        "\n",
        "pd.to_datetime(df_serial['Data Transação'], dayfirst=True)\n",
        "pd.to_datetime(df_serial['Data Disposição'],dayfirst=True) \n",
        "\n",
        "df_serial['Posição_num']=(df_serial['Posição'].str[12:13])\n",
        "df_serial['Posição_num']=df_serial['Posição_num'].astype(float)\n",
        "\n",
        "df_serial=df_serial[df_serial['Tipo Transação']=='Instalado']\n",
        "df_serial=df_serial.reset_index()\n",
        "\n",
        "\n",
        "#Adicionar nomes das colunas do df serial em df \n",
        "#df=pd.concat([df,pd.DataFrame(columns=list(df_serial.columns))])\n",
        "df=pd.concat([df,pd.DataFrame(columns=['Item Componente','Série Componente','Posição','Data Transação','Lateral do veículo'])])\n",
        "\n",
        "df = df.dropna(subset=['ID_VEICULO'])\n",
        "\n",
        "\n",
        "for s in range (0,len(df['ID_VEICULO'])):\n",
        "  \n",
        "  df['ID_VEICULO'].iloc[s]=re.sub('\\-','',df['ID_VEICULO'].iloc[s])\n",
        "  #print(\"s\",s)\n",
        "  #print(df['ID_VEICULO'].iloc[s])\n",
        "\n",
        "\n",
        "\n",
        "for i in range(0,len(df['ID_VEICULO'])):\n",
        "    vagao=int((df['ID_VEICULO'].iloc[i]))\n",
        "    num_eixo=(df['NU_RDRO_VEIC_FRVR'].iloc[i])\n",
        "    data=(df['DT_MEDC_HBD'].iloc[i])\n",
        "    \n",
        "    filtro_vagao =  df_serial[df_serial['Série Ativo Componente']==vagao]\n",
        "    filtro_vagao = filtro_vagao[filtro_vagao['Posição_num']==(num_eixo)] \n",
        "    df_vagao = filtro_vagao.reset_index()\n",
        "    if df_vagao.empty == False:\n",
        "        df_vagao = df_vagao[df_vagao['Data Transação']<data]\n",
        "        df_vagao = df_vagao.sort_values(by='Data Transação')\n",
        "        df_vagao = df_vagao.tail(1)\n",
        "        item=df_vagao['Item Componente'].item()\n",
        "        df.loc[i, 'Item Componente'] = item\n",
        "        item=df_vagao['Série Componente'].item()\n",
        "        df.loc[i, 'Série Componente'] = item\n",
        "        item=df_vagao['Posição'].item()\n",
        "        df.loc[i, 'Posição'] = item\n",
        "        item=df_vagao['Data Transação'].item()\n",
        "        df.loc[i, 'Data Transação'] = item\n",
        "        item=df_vagao['Lateral do veículo'].item()\n",
        "        df.loc[i, 'Lateral do veículo'] = item \n",
        "\n",
        "                  \n",
        "#Coluna id única\n",
        "df['id_unica']=df['Item Componente'].astype(str)+\"-\"+df['Série Componente'].astype(str)+\"-\"+df['Lateral do veículo'].astype(str)\n",
        "df.to_excel('/content/drive/MyDrive/Projetos/Projeto Inteligencia Vagoes/HBD_HWD_serial_v1.xlsx', index= False)                                 \n",
        "   \n"
      ],
      "execution_count": 87,
      "outputs": [
        {
          "metadata": {
            "tags": null
          },
          "name": "stderr",
          "output_type": "stream",
          "text": [
            "/usr/local/lib/python3.7/dist-packages/IPython/core/interactiveshell.py:2718: DtypeWarning: Columns (29,30,34,35) have mixed types.Specify dtype option on import or set low_memory=False.\n",
            "  interactivity=interactivity, compiler=compiler, result=result)\n",
            "/usr/local/lib/python3.7/dist-packages/pandas/core/indexing.py:670: SettingWithCopyWarning: \n",
            "A value is trying to be set on a copy of a slice from a DataFrame\n",
            "\n",
            "See the caveats in the documentation: https://pandas.pydata.org/pandas-docs/stable/user_guide/indexing.html#returning-a-view-versus-a-copy\n",
            "  iloc._setitem_with_indexer(indexer, value)\n"
          ]
        }
      ]
    },
    {
      "cell_type": "markdown",
      "metadata": {
        "id": "dLUH17Y7O3pd"
      },
      "source": [
        "# **Compila 0096**"
      ]
    },
    {
      "cell_type": "code",
      "metadata": {
        "id": "hH4qZ3o3Lpwt"
      },
      "source": [
        "df=pd.read_excel('/content/drive/MyDrive/Projetos/Projeto Inteligencia Vagoes/CMRO_0096.xlsx', skiprows=2)\n",
        "\n",
        "pd.to_datetime(df['Dt ultima alter'], dayfirst=True)\n",
        "\n",
        "\n",
        "df_serial=pd.read_excel('/content/drive/MyDrive/Projetos/Projeto Inteligencia Vagoes/CMRO_0076_1.xlsx',\n",
        "                        skiprows=2)\n",
        "\n",
        "pd.to_datetime(df_serial['Data Transação'], dayfirst=True)\n",
        "pd.to_datetime(df_serial['Data Disposição'],dayfirst=True) \n",
        "\n",
        "df_serial['Posição_num']=(df_serial['Posição'].str[12:13])\n",
        "df_serial['Posição_num']=df_serial['Posição_num'].astype(float)\n",
        "\n",
        "df_serial=df_serial[df_serial['Tipo Transação']=='Instalado']\n",
        "df_serial=df_serial.reset_index()\n",
        "\n",
        "\n",
        "#Adicionar nomes das colunas do df serial em df \n",
        "#df=pd.concat([df,pd.DataFrame(columns=list(df_serial.columns))])\n",
        "df=pd.concat([df,pd.DataFrame(columns=['Item Componente','Série Componente','Posição','Data Transação'])])\n",
        "\n",
        "\n",
        "\n",
        "for i in range(0,len(df['Número de Série'])):\n",
        "    vagao=int((df['Número de Série'].iloc[i]))\n",
        "    num_eixo=(df['Número do eixo do veículo'].iloc[i])\n",
        "    data=(df['Data de Criação'].iloc[i])\n",
        "    \n",
        "    filtro_vagao =  df_serial[df_serial['Série Ativo Componente']==vagao]\n",
        "    filtro_vagao = filtro_vagao[filtro_vagao['Posição_num']==(num_eixo)] \n",
        "    df_vagao = filtro_vagao.reset_index()\n",
        "    if df_vagao.empty == False:\n",
        "        df_vagao = df_vagao[df_vagao['Data Transação']<data]\n",
        "        df_vagao = df_vagao.sort_values(by='Data Transação')\n",
        "        df_vagao = df_vagao.tail(1)\n",
        "        item=df_vagao['Item Componente'].item()\n",
        "        df.loc[i, 'Item Componente'] = item\n",
        "        item=df_vagao['Série Componente'].item()\n",
        "        df.loc[i, 'Série Componente'] = item\n",
        "        item=df_vagao['Posição'].item()\n",
        "        df.loc[i, 'Posição'] = item\n",
        "        item=df_vagao['Data Transação'].item()\n",
        "        df.loc[i, 'Data Transação'] = item\n",
        "                  \n",
        "#Coluna id única\n",
        "df['id_unica']=df['Item Componente'].astype(str)+\"-\"+df['Série Componente'].astype(str)+\"-\"+df['Lateral do veículo'].astype(str)\n",
        "df.to_excel('/content/drive/MyDrive/Projetos/Projeto Inteligencia Vagoes/0096_serial_v1.xlsx', index= False)        "
      ],
      "execution_count": 91,
      "outputs": []
    },
    {
      "cell_type": "code",
      "metadata": {
        "colab": {
          "base_uri": "https://localhost:8080/",
          "height": 621
        },
        "id": "iE-RJjKOqUSD",
        "outputId": "e79acc14-6965-45c8-a8cc-f081c1bea441"
      },
      "source": [
        "df.head()"
      ],
      "execution_count": 90,
      "outputs": [
        {
          "output_type": "execute_result",
          "data": {
            "text/html": [
              "<div>\n",
              "<style scoped>\n",
              "    .dataframe tbody tr th:only-of-type {\n",
              "        vertical-align: middle;\n",
              "    }\n",
              "\n",
              "    .dataframe tbody tr th {\n",
              "        vertical-align: top;\n",
              "    }\n",
              "\n",
              "    .dataframe thead th {\n",
              "        text-align: right;\n",
              "    }\n",
              "</style>\n",
              "<table border=\"1\" class=\"dataframe\">\n",
              "  <thead>\n",
              "    <tr style=\"text-align: right;\">\n",
              "      <th></th>\n",
              "      <th>Data de Criação</th>\n",
              "      <th>Data da Ocorrência</th>\n",
              "      <th>Item</th>\n",
              "      <th>Número de Série</th>\n",
              "      <th>Local</th>\n",
              "      <th>Situação</th>\n",
              "      <th>Sumário</th>\n",
              "      <th>Unidade</th>\n",
              "      <th>Modelo</th>\n",
              "      <th>Grupo</th>\n",
              "      <th>Modo Operação</th>\n",
              "      <th>PT. Aceleração</th>\n",
              "      <th>Origem</th>\n",
              "      <th>Destino</th>\n",
              "      <th>Velocidade</th>\n",
              "      <th>Retrabalho 60 dias</th>\n",
              "      <th>Total Retrabalho 60 dias</th>\n",
              "      <th>Tipo Ocorrência</th>\n",
              "      <th>Condição Veículo</th>\n",
              "      <th>Definição Final</th>\n",
              "      <th>Criado Por</th>\n",
              "      <th>Departamento</th>\n",
              "      <th>Atualizado por</th>\n",
              "      <th>Matricula Maq.</th>\n",
              "      <th>Maquinista</th>\n",
              "      <th>N. Ocorrência</th>\n",
              "      <th>Status Ocorrência</th>\n",
              "      <th>Tipo da Ocorrência</th>\n",
              "      <th>Código do Acidente do TAC</th>\n",
              "      <th>Urgência</th>\n",
              "      <th>Severidade</th>\n",
              "      <th>Revisão Resolução</th>\n",
              "      <th>Tipo Chamado</th>\n",
              "      <th>Cliente</th>\n",
              "      <th>Cód. Problema</th>\n",
              "      <th>Desc. Problema</th>\n",
              "      <th>Cód. Resolução</th>\n",
              "      <th>Desc. Resolução</th>\n",
              "      <th>Causa Ocorrência</th>\n",
              "      <th>Instância</th>\n",
              "      <th>Status Solicitação</th>\n",
              "      <th>Trem</th>\n",
              "      <th>Organização</th>\n",
              "      <th>Departamento.1</th>\n",
              "      <th>Visita</th>\n",
              "      <th>Nome Visita</th>\n",
              "      <th>Número Tarefa</th>\n",
              "      <th>Tarefa</th>\n",
              "      <th>Ordem de Serviço</th>\n",
              "      <th>Ger manut</th>\n",
              "      <th>Qtde. Vagões</th>\n",
              "      <th>Formação Trem</th>\n",
              "      <th>Pos. no Trem</th>\n",
              "      <th>Cód. Restrição</th>\n",
              "      <th>Restrição</th>\n",
              "      <th>Local de Retirada</th>\n",
              "      <th>Atualizado Sislog</th>\n",
              "      <th>Status Usuário</th>\n",
              "      <th>THP</th>\n",
              "      <th>Cód. Local</th>\n",
              "      <th>Sigla Local</th>\n",
              "      <th>Data/Hora Início Atendimento</th>\n",
              "      <th>Data/Hora Fim Atendimento</th>\n",
              "      <th>Dt ultima alter</th>\n",
              "      <th>Solicitação do EAM</th>\n",
              "      <th>Solicitação do RedMine</th>\n",
              "      <th>Dep. Responsável pela Anomalia</th>\n",
              "      <th>Número do eixo do veículo</th>\n",
              "      <th>Lateral do veículo</th>\n",
              "      <th>Item Componente</th>\n",
              "      <th>Série Componente</th>\n",
              "      <th>Posição</th>\n",
              "      <th>Data Transação</th>\n",
              "    </tr>\n",
              "  </thead>\n",
              "  <tbody>\n",
              "    <tr>\n",
              "      <th>0</th>\n",
              "      <td>2020-12-08 11:15:34</td>\n",
              "      <td>2020-12-08 11:14:56</td>\n",
              "      <td>VAGAO</td>\n",
              "      <td>733750.0</td>\n",
              "      <td>FIU</td>\n",
              "      <td>CDA</td>\n",
              "      <td>TRUCK VIEW - MOLA SÓLIDA - Vagão com suspensão...</td>\n",
              "      <td>733749.0</td>\n",
              "      <td>GDT</td>\n",
              "      <td>NaN</td>\n",
              "      <td>NaN</td>\n",
              "      <td>NaN</td>\n",
              "      <td>NaN</td>\n",
              "      <td>NaN</td>\n",
              "      <td>NaN</td>\n",
              "      <td>0.0</td>\n",
              "      <td>2.0</td>\n",
              "      <td>NaN</td>\n",
              "      <td>NaN</td>\n",
              "      <td>NaN</td>\n",
              "      <td>99004728.0</td>\n",
              "      <td>NaN</td>\n",
              "      <td>30025579.0</td>\n",
              "      <td>NaN</td>\n",
              "      <td>NaN</td>\n",
              "      <td>2163158.0</td>\n",
              "      <td>Fechado</td>\n",
              "      <td>Eng. de Manutenção</td>\n",
              "      <td>NaN</td>\n",
              "      <td>NaN</td>\n",
              "      <td>Média</td>\n",
              "      <td>NaN</td>\n",
              "      <td>Organização</td>\n",
              "      <td>MRS LOGISTICA S.A.</td>\n",
              "      <td>SPC</td>\n",
              "      <td>SUSPENSÃO COM PERDA DE CAPACIDADE - SEVERO</td>\n",
              "      <td>VAG.42331.MXL.005</td>\n",
              "      <td>TRUQUE-MOLA DE SUSPENSÃO-VAG.42331.MXL.005</td>\n",
              "      <td>FALHA MATERIAL RECUPERÁVEL PI - TRUQUE</td>\n",
              "      <td>101177.0</td>\n",
              "      <td>Acompanhado</td>\n",
              "      <td>NGF0313</td>\n",
              "      <td>83.0</td>\n",
              "      <td>FPV</td>\n",
              "      <td>805412.0</td>\n",
              "      <td>733749 - VR1</td>\n",
              "      <td>30.0</td>\n",
              "      <td>Eng. de Manutenção-2163158</td>\n",
              "      <td>OS13118606</td>\n",
              "      <td>5MR210</td>\n",
              "      <td>136.0</td>\n",
              "      <td>9034684 - 9034307 - 9073159 - 9034013</td>\n",
              "      <td>39.0</td>\n",
              "      <td>NaN</td>\n",
              "      <td>NaN</td>\n",
              "      <td>NaN</td>\n",
              "      <td>NaN</td>\n",
              "      <td>30025579.0</td>\n",
              "      <td>NaN</td>\n",
              "      <td>NaN</td>\n",
              "      <td>NaN</td>\n",
              "      <td>NaT</td>\n",
              "      <td>NaT</td>\n",
              "      <td>2020-12-23 01:44:17</td>\n",
              "      <td>NaN</td>\n",
              "      <td>NaN</td>\n",
              "      <td>NaN</td>\n",
              "      <td>NaN</td>\n",
              "      <td>NaN</td>\n",
              "      <td>NaN</td>\n",
              "      <td>NaN</td>\n",
              "      <td>NaN</td>\n",
              "      <td>NaN</td>\n",
              "    </tr>\n",
              "    <tr>\n",
              "      <th>1</th>\n",
              "      <td>2020-12-29 09:19:28</td>\n",
              "      <td>2020-12-29 09:18:37</td>\n",
              "      <td>VAGAO</td>\n",
              "      <td>624318.0</td>\n",
              "      <td>FEN</td>\n",
              "      <td>CDA</td>\n",
              "      <td>Eixo 4 - Lado Esquerdo</td>\n",
              "      <td>624318.0</td>\n",
              "      <td>PES</td>\n",
              "      <td>NaN</td>\n",
              "      <td>NaN</td>\n",
              "      <td>NaN</td>\n",
              "      <td>NaN</td>\n",
              "      <td>NaN</td>\n",
              "      <td>NaN</td>\n",
              "      <td>0.0</td>\n",
              "      <td>0.0</td>\n",
              "      <td>NaN</td>\n",
              "      <td>NaN</td>\n",
              "      <td>NaN</td>\n",
              "      <td>99004728.0</td>\n",
              "      <td>NaN</td>\n",
              "      <td>4745.0</td>\n",
              "      <td>NaN</td>\n",
              "      <td>NaN</td>\n",
              "      <td>2174352.0</td>\n",
              "      <td>Fechado</td>\n",
              "      <td>Eng. de Manutenção</td>\n",
              "      <td>NaN</td>\n",
              "      <td>NaN</td>\n",
              "      <td>Média</td>\n",
              "      <td>NaN</td>\n",
              "      <td>Organização</td>\n",
              "      <td>MRS LOGISTICA S.A.</td>\n",
              "      <td>WIL2</td>\n",
              "      <td>ALARME WHEEL IMPACT  (L2) - DETECTOR IMPACTO L...</td>\n",
              "      <td>VAG.44330.ROD.004</td>\n",
              "      <td>RODEIRO-RODA-VAG.44330.ROD.004 (SHELLING OU SP...</td>\n",
              "      <td>FALHA MATERIAL RECUPERÁVEL PI - RODEIRO</td>\n",
              "      <td>24205.0</td>\n",
              "      <td>Acompanhado</td>\n",
              "      <td>KCP0156</td>\n",
              "      <td>41.0</td>\n",
              "      <td>FUU</td>\n",
              "      <td>793727.0</td>\n",
              "      <td>624318 - VR1</td>\n",
              "      <td>68.0</td>\n",
              "      <td>Eng. de Manutenção-2174352</td>\n",
              "      <td>OS13717185</td>\n",
              "      <td>5MR230</td>\n",
              "      <td>78.0</td>\n",
              "      <td>9039058 - 9039155</td>\n",
              "      <td>26.0</td>\n",
              "      <td>NaN</td>\n",
              "      <td>NaN</td>\n",
              "      <td>NaN</td>\n",
              "      <td>NaN</td>\n",
              "      <td>30025756.0</td>\n",
              "      <td>NaN</td>\n",
              "      <td>NaN</td>\n",
              "      <td>NaN</td>\n",
              "      <td>NaT</td>\n",
              "      <td>NaT</td>\n",
              "      <td>2021-06-30 09:27:27</td>\n",
              "      <td>NaN</td>\n",
              "      <td>NaN</td>\n",
              "      <td>NaN</td>\n",
              "      <td>4.0</td>\n",
              "      <td>L</td>\n",
              "      <td>NaN</td>\n",
              "      <td>NaN</td>\n",
              "      <td>NaN</td>\n",
              "      <td>NaN</td>\n",
              "    </tr>\n",
              "    <tr>\n",
              "      <th>2</th>\n",
              "      <td>2020-12-07 11:54:46</td>\n",
              "      <td>2020-12-07 11:54:11</td>\n",
              "      <td>VAGAO</td>\n",
              "      <td>731595.0</td>\n",
              "      <td>FOP</td>\n",
              "      <td>NaN</td>\n",
              "      <td>Eixo 2 - Lado Esquerdo</td>\n",
              "      <td>731595.0</td>\n",
              "      <td>GDT</td>\n",
              "      <td>NaN</td>\n",
              "      <td>NaN</td>\n",
              "      <td>NaN</td>\n",
              "      <td>NaN</td>\n",
              "      <td>NaN</td>\n",
              "      <td>NaN</td>\n",
              "      <td>0.0</td>\n",
              "      <td>0.0</td>\n",
              "      <td>NaN</td>\n",
              "      <td>NaN</td>\n",
              "      <td>NaN</td>\n",
              "      <td>99004728.0</td>\n",
              "      <td>NaN</td>\n",
              "      <td>30025886.0</td>\n",
              "      <td>NaN</td>\n",
              "      <td>NaN</td>\n",
              "      <td>2162669.0</td>\n",
              "      <td>Fechado</td>\n",
              "      <td>Eng. de Manutenção</td>\n",
              "      <td>NaN</td>\n",
              "      <td>NaN</td>\n",
              "      <td>Média</td>\n",
              "      <td>NaN</td>\n",
              "      <td>Organização</td>\n",
              "      <td>MRS LOGISTICA S.A.</td>\n",
              "      <td>RAB</td>\n",
              "      <td>ALARME RAILBAM</td>\n",
              "      <td>VAG.44330.ROT.007</td>\n",
              "      <td>RODEIRO-ROLAMENTO-VAG.44330.ROT.007</td>\n",
              "      <td>FALHA MATERIAL RECUPERÁVEL PI - RODEIRO</td>\n",
              "      <td>16564.0</td>\n",
              "      <td>Acompanhado</td>\n",
              "      <td>NaN</td>\n",
              "      <td>83.0</td>\n",
              "      <td>FPV</td>\n",
              "      <td>805753.0</td>\n",
              "      <td>731595</td>\n",
              "      <td>3.0</td>\n",
              "      <td>Eng. de Manutenção-2162669</td>\n",
              "      <td>OS13127969</td>\n",
              "      <td>5MR210</td>\n",
              "      <td>NaN</td>\n",
              "      <td>NaN</td>\n",
              "      <td>NaN</td>\n",
              "      <td>NaN</td>\n",
              "      <td>NaN</td>\n",
              "      <td>NaN</td>\n",
              "      <td>NaN</td>\n",
              "      <td>30025886.0</td>\n",
              "      <td>NaN</td>\n",
              "      <td>NaN</td>\n",
              "      <td>NaN</td>\n",
              "      <td>NaT</td>\n",
              "      <td>NaT</td>\n",
              "      <td>2020-12-25 18:10:33</td>\n",
              "      <td>NaN</td>\n",
              "      <td>NaN</td>\n",
              "      <td>NaN</td>\n",
              "      <td>2.0</td>\n",
              "      <td>L</td>\n",
              "      <td>NaN</td>\n",
              "      <td>NaN</td>\n",
              "      <td>NaN</td>\n",
              "      <td>NaN</td>\n",
              "    </tr>\n",
              "    <tr>\n",
              "      <th>3</th>\n",
              "      <td>2020-12-07 13:58:13</td>\n",
              "      <td>2020-12-07 13:57:35</td>\n",
              "      <td>VAGAO</td>\n",
              "      <td>734725.0</td>\n",
              "      <td>FAL</td>\n",
              "      <td>CDA</td>\n",
              "      <td>Eixo 2 - Lado Direito</td>\n",
              "      <td>734725.0</td>\n",
              "      <td>GDT</td>\n",
              "      <td>NaN</td>\n",
              "      <td>NaN</td>\n",
              "      <td>NaN</td>\n",
              "      <td>NaN</td>\n",
              "      <td>NaN</td>\n",
              "      <td>NaN</td>\n",
              "      <td>1.0</td>\n",
              "      <td>1.0</td>\n",
              "      <td>NaN</td>\n",
              "      <td>NaN</td>\n",
              "      <td>NaN</td>\n",
              "      <td>99004728.0</td>\n",
              "      <td>NaN</td>\n",
              "      <td>30025579.0</td>\n",
              "      <td>NaN</td>\n",
              "      <td>NaN</td>\n",
              "      <td>2162695.0</td>\n",
              "      <td>Fechado</td>\n",
              "      <td>Eng. de Manutenção</td>\n",
              "      <td>NaN</td>\n",
              "      <td>NaN</td>\n",
              "      <td>Média</td>\n",
              "      <td>NaN</td>\n",
              "      <td>Organização</td>\n",
              "      <td>MRS LOGISTICA S.A.</td>\n",
              "      <td>RAB</td>\n",
              "      <td>ALARME RAILBAM</td>\n",
              "      <td>VAG.44330.ROT.007</td>\n",
              "      <td>RODEIRO-ROLAMENTO-VAG.44330.ROT.007</td>\n",
              "      <td>FALHA MATERIAL RECUPERÁVEL PI - RODEIRO</td>\n",
              "      <td>27247.0</td>\n",
              "      <td>Acompanhado</td>\n",
              "      <td>NLE0311</td>\n",
              "      <td>83.0</td>\n",
              "      <td>FPV</td>\n",
              "      <td>805480.0</td>\n",
              "      <td>734725</td>\n",
              "      <td>13.0</td>\n",
              "      <td>Eng. de Manutenção-2162695</td>\n",
              "      <td>OS13119513</td>\n",
              "      <td>5MR210</td>\n",
              "      <td>136.0</td>\n",
              "      <td>9034102 - 9034277</td>\n",
              "      <td>11.0</td>\n",
              "      <td>NaN</td>\n",
              "      <td>NaN</td>\n",
              "      <td>NaN</td>\n",
              "      <td>NaN</td>\n",
              "      <td>30025579.0</td>\n",
              "      <td>NaN</td>\n",
              "      <td>NaN</td>\n",
              "      <td>NaN</td>\n",
              "      <td>NaT</td>\n",
              "      <td>NaT</td>\n",
              "      <td>2020-12-23 02:15:43</td>\n",
              "      <td>NaN</td>\n",
              "      <td>NaN</td>\n",
              "      <td>NaN</td>\n",
              "      <td>2.0</td>\n",
              "      <td>R</td>\n",
              "      <td>NaN</td>\n",
              "      <td>NaN</td>\n",
              "      <td>NaN</td>\n",
              "      <td>NaN</td>\n",
              "    </tr>\n",
              "    <tr>\n",
              "      <th>4</th>\n",
              "      <td>2020-12-10 10:55:45</td>\n",
              "      <td>2020-12-10 10:54:30</td>\n",
              "      <td>VAGAO</td>\n",
              "      <td>617123.0</td>\n",
              "      <td>FCT</td>\n",
              "      <td>CDA</td>\n",
              "      <td>Eixo 1 - Lado Esquerdo</td>\n",
              "      <td>617123.0</td>\n",
              "      <td>PES</td>\n",
              "      <td>NaN</td>\n",
              "      <td>NaN</td>\n",
              "      <td>NaN</td>\n",
              "      <td>NaN</td>\n",
              "      <td>NaN</td>\n",
              "      <td>NaN</td>\n",
              "      <td>0.0</td>\n",
              "      <td>2.0</td>\n",
              "      <td>NaN</td>\n",
              "      <td>NaN</td>\n",
              "      <td>NaN</td>\n",
              "      <td>99004728.0</td>\n",
              "      <td>NaN</td>\n",
              "      <td>4095.0</td>\n",
              "      <td>NaN</td>\n",
              "      <td>NaN</td>\n",
              "      <td>2164384.0</td>\n",
              "      <td>Fechado</td>\n",
              "      <td>Eng. de Manutenção</td>\n",
              "      <td>NaN</td>\n",
              "      <td>NaN</td>\n",
              "      <td>Média</td>\n",
              "      <td>NaN</td>\n",
              "      <td>Organização</td>\n",
              "      <td>MRS LOGISTICA S.A.</td>\n",
              "      <td>WIL</td>\n",
              "      <td>ALARME WHEEL IMPACT  (L1) - DETECTOR IMPACTO L...</td>\n",
              "      <td>VAG.44330.ROD.001</td>\n",
              "      <td>RODEIRO-RODA-VAG.44330.ROD.001</td>\n",
              "      <td>FALHA MATERIAL RECUPERÁVEL PI - RODEIRO</td>\n",
              "      <td>24520.0</td>\n",
              "      <td>Acompanhado</td>\n",
              "      <td>KCP0118</td>\n",
              "      <td>50.0</td>\n",
              "      <td>FCV</td>\n",
              "      <td>806477.0</td>\n",
              "      <td>617123</td>\n",
              "      <td>9.0</td>\n",
              "      <td>Eng. de Manutenção-2164384</td>\n",
              "      <td>OS13149179</td>\n",
              "      <td>5MR230</td>\n",
              "      <td>108.0</td>\n",
              "      <td>9039422 - 9038060</td>\n",
              "      <td>55.0</td>\n",
              "      <td>NaN</td>\n",
              "      <td>NaN</td>\n",
              "      <td>NaN</td>\n",
              "      <td>NaN</td>\n",
              "      <td>30027893.0</td>\n",
              "      <td>NaN</td>\n",
              "      <td>NaN</td>\n",
              "      <td>NaN</td>\n",
              "      <td>NaT</td>\n",
              "      <td>NaT</td>\n",
              "      <td>2021-01-21 19:28:59</td>\n",
              "      <td>NaN</td>\n",
              "      <td>NaN</td>\n",
              "      <td>NaN</td>\n",
              "      <td>1.0</td>\n",
              "      <td>L</td>\n",
              "      <td>NaN</td>\n",
              "      <td>NaN</td>\n",
              "      <td>NaN</td>\n",
              "      <td>NaN</td>\n",
              "    </tr>\n",
              "  </tbody>\n",
              "</table>\n",
              "</div>"
            ],
            "text/plain": [
              "      Data de Criação  Data da Ocorrência  ... Posição  Data Transação\n",
              "0 2020-12-08 11:15:34 2020-12-08 11:14:56  ...     NaN             NaN\n",
              "1 2020-12-29 09:19:28 2020-12-29 09:18:37  ...     NaN             NaN\n",
              "2 2020-12-07 11:54:46 2020-12-07 11:54:11  ...     NaN             NaN\n",
              "3 2020-12-07 13:58:13 2020-12-07 13:57:35  ...     NaN             NaN\n",
              "4 2020-12-10 10:55:45 2020-12-10 10:54:30  ...     NaN             NaN\n",
              "\n",
              "[5 rows x 73 columns]"
            ]
          },
          "metadata": {},
          "execution_count": 90
        }
      ]
    },
    {
      "cell_type": "markdown",
      "metadata": {
        "id": "q3vtfI0WPEOi"
      },
      "source": [
        "# **Concatena Todos**"
      ]
    },
    {
      "cell_type": "code",
      "metadata": {
        "id": "-4ykR4PuLprI"
      },
      "source": [
        "df_wi=pd.read_excel('/content/drive/MyDrive/Projetos/Projeto Inteligencia Vagoes/WheelImpact_serial_v1.xlsx',engine='openpyxl')\n",
        "df_wi['Indice_id']=df_wi['id_unica']+\"-\"+df_wi['Horário do trem'].astype(str)\n",
        "df_wi=df_wi.set_index('Indice_id')\n",
        "\n",
        "df_rb=pd.read_excel('/content/drive/MyDrive/Projetos/Projeto Inteligencia Vagoes/RailBam_serial_v1.xlsx',engine='openpyxl')\n",
        "df_rb['Indice_id']=df_rb['id_unica']+\"-\"+df_rb['Horário do trem'].astype(str)\n",
        "df_rb=df_rb.set_index('Indice_id')\n",
        "\n",
        "df_hbd_hwd=pd.read_excel('/content/drive/MyDrive/Projetos/Projeto Inteligencia Vagoes/HBD_HWD_serial_v1.xlsx',engine='openpyxl')\n",
        "df_hbd_hwd['Indice_id']=df_hbd_hwd['id_unica']+\"-\"+df_hbd_hwd['DT_MEDC_HBD'].astype(str)\n",
        "df_hbd_hwd=df_hbd_hwd.set_index('Indice_id')\n",
        "\n",
        "df_0096=pd.read_excel('/content/drive/MyDrive/Projetos/Projeto Inteligencia Vagoes/0096_serial_v1.xlsx',engine='openpyxl')\n",
        "df_0096['Indice_id']=df_0096['id_unica']+\"-\"+df_0096['Data de Criação'].astype(str)\n",
        "df_0096=df_0096.set_index('Indice_id')\n",
        "\n",
        "df_todos=df_wi.append([df_rb,df_hbd_hwd,df_0096])\n",
        "\n",
        "df_todos.to_excel(r'/content/drive/MyDrive/Projetos/Projeto Inteligencia Vagoes/Todos_serial_v1.xlsx',engine='openpyxl')   "
      ],
      "execution_count": null,
      "outputs": []
    },
    {
      "cell_type": "code",
      "metadata": {
        "id": "gSMveyUBLpn1"
      },
      "source": [
        "df_todos.to_excel(r'/content/drive/MyDrive/Projetos/Projeto Inteligencia Vagoes/Todos_serial_v1.xlsx',engine='openpyxl')   "
      ],
      "execution_count": null,
      "outputs": []
    },
    {
      "cell_type": "code",
      "metadata": {
        "id": "5Raingh_Lpiv"
      },
      "source": [
        ""
      ],
      "execution_count": null,
      "outputs": []
    },
    {
      "cell_type": "code",
      "metadata": {
        "id": "M71uqBGCLpge"
      },
      "source": [
        ""
      ],
      "execution_count": null,
      "outputs": []
    },
    {
      "cell_type": "code",
      "metadata": {
        "id": "Zzw6nKqHLpdm"
      },
      "source": [
        ""
      ],
      "execution_count": null,
      "outputs": []
    },
    {
      "cell_type": "code",
      "metadata": {
        "id": "WMBokKf7LpbM"
      },
      "source": [
        ""
      ],
      "execution_count": null,
      "outputs": []
    },
    {
      "cell_type": "code",
      "metadata": {
        "id": "c79zHifwLpYm"
      },
      "source": [
        ""
      ],
      "execution_count": null,
      "outputs": []
    },
    {
      "cell_type": "code",
      "metadata": {
        "id": "yuXn8NHvLpWY"
      },
      "source": [
        ""
      ],
      "execution_count": null,
      "outputs": []
    },
    {
      "cell_type": "code",
      "metadata": {
        "id": "E6COpMXwLpTl"
      },
      "source": [
        ""
      ],
      "execution_count": null,
      "outputs": []
    },
    {
      "cell_type": "code",
      "metadata": {
        "id": "K6vHJ3mGLpRK"
      },
      "source": [
        ""
      ],
      "execution_count": null,
      "outputs": []
    },
    {
      "cell_type": "code",
      "metadata": {
        "id": "YFM6O2OqLpOf"
      },
      "source": [
        ""
      ],
      "execution_count": null,
      "outputs": []
    },
    {
      "cell_type": "code",
      "metadata": {
        "id": "dLldXhoFLpMP"
      },
      "source": [
        ""
      ],
      "execution_count": null,
      "outputs": []
    },
    {
      "cell_type": "code",
      "metadata": {
        "id": "0JmUXgMBLpJI"
      },
      "source": [
        ""
      ],
      "execution_count": null,
      "outputs": []
    }
  ]
}